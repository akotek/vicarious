{
 "cells": [
  {
   "cell_type": "markdown",
   "metadata": {},
   "source": [
    "# In <font color=\"red\">bucharest</font>, i'll examine omer's songs...\n",
    "\n",
    "\n",
    "# with simple text algorithms..... simple viz.........and........... \n",
    "# <font color=\"green\" size=6>clojure!</font>"
   ]
  },
  {
   "cell_type": "markdown",
   "metadata": {},
   "source": [
    "### NO numpy, no matplotlib....no python!!:\n",
    "with:\n",
    "1.  [core.matrix](https://github.com/mikera/core.matrix), array programming\n",
    "2. [vega](https://vega.github.io/vega/) (awesome DSL) and little bit [incanter](https://github.com/incanter/incanter), for viz, graphs\n",
    "3. clojure.test, [clojure.test.check](https://github.com/clojure/test.check), clojure.spec for example/property based testing (QuickCHECKKK)"
   ]
  },
  {
   "cell_type": "markdown",
   "metadata": {},
   "source": [
    "# BEGIN:\n",
    "\n",
    "### let's grab omer's songs with JSoup (javas scraping lib) & Java interop (calling java code from clojure) into memory:\n",
    "<figure class=\"half\" style=\"display:flex\">\n",
    "    <img src=\"omer2.png\" width=400>\n",
    "    <img src=\"omer3.png\" width=400>\n",
    "</figure>"
   ]
  },
  {
   "cell_type": "code",
   "execution_count": 4,
   "metadata": {},
   "outputs": [
    {
     "name": "stdout",
     "output_type": "stream",
     "text": [
      "==========================================================\n",
      "clojure.lang.LazySeq\n",
      "total scraped songs: 69\n",
      "==========================================================\n"
     ]
    },
    {
     "data": {
      "text/plain": [
       "{:title \"Tel Aviv\", :text \"She feels that her luck has opened up She met a manly man and a rajal 1 And she'll whisper to him, what will she whisper to him? 'Take me on the camel' I'm your beauty You're my beast Welcome to the Middle East Tel Aviv, ya habibi 2, Tel Aviv Look how many lirdim 3 there are around Telling me 'hi, hi' At night 'wai, wai' And well done, Tel Aviv Sun rises in the white city And he's being stared at from every corner And she knows, what does she know? He'll run away from her in a second I'm your beauty You're my beast Welcome to the Middle East Tel Aviv, ya habibi 2, Tel Aviv Look how many lirdim 3 there are around Telling me 'hi, hi' At night 'wai, wai' And well done, Tel Aviv I have it going up, up, up and not down\"}"
      ]
     },
     "execution_count": 4,
     "metadata": {},
     "output_type": "execute_result"
    }
   ],
   "source": [
    "; =================================\n",
    "(require '[clojupyter.misc.helper :as helper]\n",
    "         '[clojupyter.misc.display :as display])\n",
    "(helper/add-dependencies '[org.jsoup/jsoup \"1.7.3\"])\n",
    "(import (org.jsoup Jsoup)\n",
    "        (org.jsoup.select Elements)\n",
    "        (org.jsoup.nodes Element))\n",
    "; =================================\n",
    "\n",
    "(def base-url \"https://lyricstranslate.com\")\n",
    "\n",
    "(defn get-page [url]\n",
    "  (.get (Jsoup/connect url)))\n",
    "\n",
    "(defn get-elems [page css]\n",
    "  (.select page css))\n",
    "\n",
    "(defn extract-links [url]\n",
    "  (for [e (get-elems (get-page url) \"a[href]\")\n",
    "        :when (and (= (.attr e \"class\") \"lang\")\n",
    "                   (or (= (.text e) \"English\")\n",
    "                       (= (.text e) \"#1\")))]\n",
    "    (str base-url (.attr e \"href\"))))\n",
    "\n",
    "(defn extract-song [url]\n",
    "  (let [elems (get-elems (get-page url) \"div#songtranslation > .translate-node-text\")\n",
    "        title (.text (get-elems elems \".title-h2\"))\n",
    "        text (.text (get-elems elems \".ltf > .par\"))]\n",
    "  {:title title\n",
    "   :text text}))\n",
    "\n",
    "(def omer-url (str base-url \"/en/omer-adam-lyrics.html\"))\n",
    "\n",
    "(defn scrape-omer []\n",
    "  (for [song-url (extract-links omer-url)]\n",
    "    (extract-song song-url)))\n",
    "\n",
    "; =================================\n",
    "(def scraped-songs (scrape-omer))\n",
    "(println \"==========================================================\")\n",
    "(println (type scraped-songs))\n",
    "(println \"total scraped songs:\" (count scraped-songs))\n",
    "(println \"==========================================================\")\n",
    "(first (filter #(= (:title %) \"Tel Aviv\") scraped-songs))"
   ]
  },
  {
   "cell_type": "markdown",
   "metadata": {},
   "source": [
    "# pre processing, cleaning up some badly-scraped songs & dups, we get: "
   ]
  },
  {
   "cell_type": "code",
   "execution_count": 8,
   "metadata": {},
   "outputs": [
    {
     "name": "stdout",
     "output_type": "stream",
     "text": [
      "==========================================================\n",
      "total after processing: 62\n",
      "sanity check: true\n",
      "==========================================================\n"
     ]
    },
    {
     "data": {
      "text/plain": [
       ":ok"
      ]
     },
     "execution_count": 8,
     "metadata": {},
     "output_type": "execute_result"
    }
   ],
   "source": [
    "(require '[clojure.set :as set]\n",
    "         '[clojure.string :as s])\n",
    "\n",
    "(def badly-scraped #{\"После стольких лет\", \"Az Halachti\", \"Khaverot Shelakh\", \"Noetset Mabat\", \"Sheket\", \"Mahapecha Shel Simha\"})\n",
    "\n",
    "(def dup-songs-starts-text \"Hi margisha\")\n",
    "\n",
    "(defn pre-process [songs]\n",
    "    (->> songs\n",
    "         (remove #(or (contains? badly-scraped (:title %))\n",
    "                      (s/starts-with? (:text %) dup-songs-starts-text)))))\n",
    "\n",
    "(def songs (pre-process scraped-songs))\n",
    "(def titles (map :title songs))\n",
    "\n",
    "(println \"==========================================================\")\n",
    "(println \"total after processing:\" (count songs))\n",
    "(println \"sanity check:\"(set/subset? #{\"I give thanks\", \"Bucharest\", \"Your girl-friends\"} (set titles)))\n",
    "(println \"==========================================================\")\n",
    ":ok"
   ]
  },
  {
   "cell_type": "markdown",
   "metadata": {},
   "source": [
    "## examing the corpus, we can see that most of the songs have normal structure and are separated by <font color=\"red\"> [space, \",\"] </font>,\n",
    "\n",
    "## while small amount of songs like: in \"your-girlfirneds\" and \"thousand-times\", we can see different lines like:\n",
    "\n",
    "* <font size =3 color=\"green\">\"(She) does me \"chiqi chiqi dam dam\" like this all day.\"\n",
    "* \"and she has character, (it's) son of a...*\"\n",
    "* \"The square(=floor) is on fire, all the ladies are dancing\"</font>"
   ]
  },
  {
   "cell_type": "markdown",
   "metadata": {},
   "source": [
    "## this implies how we should cut (tokenize) the strings (songs), removing symbols like: <font color=\"red\"> ['=', '()', '='] & more </font>, while splitting with spaces, commas.\n",
    "\n",
    "## after removing all english-stop-words, we have count occurrences and get a simple word-count (Bag of words) from omer's songs,"
   ]
  },
  {
   "cell_type": "code",
   "execution_count": 211,
   "metadata": {},
   "outputs": [
    {
     "data": {
      "text/plain": [
       "([\"love\" 105] [\"im\" 102] [\"come\" 80] [\"like\" 79] [\"day\" 65] [\"heart\" 61] [\"go\" 47] [\"say\" 47] [\"end\" 47] [\"one\" 44] [\"know\" 44] [\"night\" 40] [\"lets\" 38] [\"give\" 38] [\"get\" 38] [\"back\" 37] [\"always\" 36] [\"time\" 36] [\"tell\" 35] [\"eyes\" 35] [\"away\" 34] [\"want\" 34] [\"us\" 33] [\"cause\" 32] [\"life\" 32] [\"see\" 31] [\"forget\" 30] [\"every\" 30] [\"ill\" 30] [\"well\" 30] [\"together\" 29] [\"everything\" 29] [\"dance\" 27] [\"fire\" 27] [\"look\" 26] [\"alone\" 26] [\"theres\" 26] [\"youll\" 25] [\"crazy\" 25] [\"everyone\" 25])"
      ]
     },
     "execution_count": 211,
     "metadata": {},
     "output_type": "execute_result"
    }
   ],
   "source": [
    "(def stops (->> (slurp \"test/vicarious/misc/stopwords\") s/split-lines set))\n",
    "\n",
    "(defn tokenize [text]\n",
    "  (as-> text t\n",
    "        (s/trim t)\n",
    "        (filter #(or (Character/isSpace %) (Character/isLetter ^Character %)) t)\n",
    "        (apply str t)\n",
    "        (s/lower-case t)\n",
    "        (s/split t #\"\\s+\")))\n",
    "\n",
    "(defn bow [corpus]\n",
    "  (->> corpus\n",
    "       (reduce (fn [m doc]\n",
    "                 (merge-with + m (-> doc \n",
    "                                     :text\n",
    "                                     tokenize \n",
    "                                     frequencies)))\n",
    "               {})))\n",
    "\n",
    "; =================================\n",
    "(def freq-dist\n",
    "    (as-> songs songs\n",
    "          (bow songs)\n",
    "          (select-keys songs \n",
    "                       (set/difference (set (keys songs)) stops))\n",
    "          (sort-by val > songs)))\n",
    "\n",
    "(take 40 freq-dist)"
   ]
  },
  {
   "cell_type": "markdown",
   "metadata": {},
   "source": [
    "# so our pipeline so far:  \n",
    "#### <font color=\"red\">array of songs -> tokenize-each-song -> count frequencies -> collect to result</font>, \n",
    "### plotting it with vega (cool viz grammer - <font color=\"green\">just define your viz in JSON</font> and run it in every language you want, no python-matplotlib-dependency!!):"
   ]
  },
  {
   "cell_type": "code",
   "execution_count": 212,
   "metadata": {
    "scrolled": true
   },
   "outputs": [
    {
     "data": {
      "text/plain": [
       ":ok"
      ]
     },
     "execution_count": 212,
     "metadata": {},
     "output_type": "execute_result"
    }
   ],
   "source": [
    "; =================================\n",
    "(helper/add-dependencies '[metasoarous/oz \"1.5.0\"])\n",
    "(require '[oz.notebook.clojupyter :as oz])\n",
    "(helper/add-dependencies '[incanter \"1.9.3\"])\n",
    "(use '(incanter core stats charts io))\n",
    "; =================================\n",
    "\n",
    "(defn xs->vega-map [xs]\n",
    "    (map #(hash-map :freq (val %) :word (key %)) xs))\n",
    "\n",
    "(def viz-data (xs->vega-map (take 30 freq-dist)))\n",
    "\n",
    "(def stacked-bar \n",
    "    {:title \"distribution of words in omer's corpus\"\n",
    "     :data {:values (take 15 viz-data)}\n",
    "     :mark \"bar\"\n",
    "     :encoding {:x {:field \"word\"\n",
    "                    :type \"ordinal\"\n",
    "                    :sort \"x\"}\n",
    "                :y {:field \"freq\"\n",
    "                    :type \"quantitative\"}}})\n",
    "\n",
    "(def word-cloud\n",
    "    {:data {:values viz-data\n",
    "            :name \"data\"}\n",
    "     :marks [{:type \"text\"\n",
    "              :from {:data \"data\"}\n",
    "              :encode {:enter {:text {:field \"word\"\n",
    "                                      :baseline {:value \"alphabetic\"}\n",
    "                                      :align {:value \"center\"}}}}\n",
    "             :transform [{:type \"wordcloud\"\n",
    "                          :size [800, 400]\n",
    "                          :text {:field \"word\"}\n",
    "                          :font \"Helvetica Neue, Arial\"\n",
    "                          :fontSize {:field \"datum.freq\"}\n",
    "                          :fontSizeRange [10, 120]\n",
    "                          :padding 2}]}]})\n",
    ":ok"
   ]
  },
  {
   "cell_type": "code",
   "execution_count": 213,
   "metadata": {},
   "outputs": [
    {
     "data": {
      "text/html": [
       "\n",
       "<div>\n",
       "  <div id='uuid-f8685e96-03cc-4bd1-909b-6e781acc1b3b'></div>\n",
       "  <script>\n",
       "  requirejs.config({\n",
       "    baseUrl: 'https://cdn.jsdelivr.net/npm/',\n",
       "    paths: {\n",
       "      'vega-embed':  'vega-embed@3?noext',\n",
       "      'vega-lib': 'vega-lib?noext',\n",
       "      'vega-lite': 'vega-lite@2?noext',\n",
       "      'vega': 'vega@3?noext'\n",
       "    }\n",
       "  });\n",
       "  require(['vega-embed'], function(vegaEmbed) {\n",
       "    let spec = {\"title\":\"distribution of words in omer's corpus\",\"data\":{\"values\":[{\"freq\":105,\"word\":\"love\"},{\"freq\":102,\"word\":\"im\"},{\"freq\":80,\"word\":\"come\"},{\"freq\":79,\"word\":\"like\"},{\"freq\":65,\"word\":\"day\"},{\"freq\":61,\"word\":\"heart\"},{\"freq\":47,\"word\":\"go\"},{\"freq\":47,\"word\":\"say\"},{\"freq\":47,\"word\":\"end\"},{\"freq\":44,\"word\":\"one\"},{\"freq\":44,\"word\":\"know\"},{\"freq\":40,\"word\":\"night\"},{\"freq\":38,\"word\":\"lets\"},{\"freq\":38,\"word\":\"give\"},{\"freq\":38,\"word\":\"get\"}]},\"mark\":\"bar\",\"encoding\":{\"x\":{\"field\":\"word\",\"type\":\"ordinal\",\"sort\":\"x\"},\"y\":{\"field\":\"freq\",\"type\":\"quantitative\"}}};\n",
       "    vegaEmbed('#uuid-f8685e96-03cc-4bd1-909b-6e781acc1b3b', spec, {defaultStyle:true}).catch(console.warn);\n",
       "    }, function(err) {\n",
       "    console.log('Failed to load');\n",
       "  });\n",
       "  </script>\n",
       "</div>\n",
       "  "
      ]
     },
     "execution_count": 213,
     "metadata": {},
     "output_type": "execute_result"
    }
   ],
   "source": [
    "(oz/view! stacked-bar)"
   ]
  },
  {
   "cell_type": "markdown",
   "metadata": {},
   "source": [
    "# or in a word cloud.."
   ]
  },
  {
   "cell_type": "code",
   "execution_count": 214,
   "metadata": {},
   "outputs": [
    {
     "data": {
      "text/html": [
       "\n",
       "<div>\n",
       "  <div id='uuid-937541d4-242b-40bb-b2bc-24adcbce330c'></div>\n",
       "  <script>\n",
       "  requirejs.config({\n",
       "    baseUrl: 'https://cdn.jsdelivr.net/npm/',\n",
       "    paths: {\n",
       "      'vega-embed':  'vega-embed@3?noext',\n",
       "      'vega-lib': 'vega-lib?noext',\n",
       "      'vega-lite': 'vega-lite@2?noext',\n",
       "      'vega': 'vega@3?noext'\n",
       "    }\n",
       "  });\n",
       "  require(['vega-embed'], function(vegaEmbed) {\n",
       "    let spec = {\"data\":{\"values\":[{\"freq\":105,\"word\":\"love\"},{\"freq\":102,\"word\":\"im\"},{\"freq\":80,\"word\":\"come\"},{\"freq\":79,\"word\":\"like\"},{\"freq\":65,\"word\":\"day\"},{\"freq\":61,\"word\":\"heart\"},{\"freq\":47,\"word\":\"go\"},{\"freq\":47,\"word\":\"say\"},{\"freq\":47,\"word\":\"end\"},{\"freq\":44,\"word\":\"one\"},{\"freq\":44,\"word\":\"know\"},{\"freq\":40,\"word\":\"night\"},{\"freq\":38,\"word\":\"lets\"},{\"freq\":38,\"word\":\"give\"},{\"freq\":38,\"word\":\"get\"},{\"freq\":37,\"word\":\"back\"},{\"freq\":36,\"word\":\"always\"},{\"freq\":36,\"word\":\"time\"},{\"freq\":35,\"word\":\"tell\"},{\"freq\":35,\"word\":\"eyes\"},{\"freq\":34,\"word\":\"away\"},{\"freq\":34,\"word\":\"want\"},{\"freq\":33,\"word\":\"us\"},{\"freq\":32,\"word\":\"cause\"},{\"freq\":32,\"word\":\"life\"},{\"freq\":31,\"word\":\"see\"},{\"freq\":30,\"word\":\"forget\"},{\"freq\":30,\"word\":\"every\"},{\"freq\":30,\"word\":\"ill\"},{\"freq\":30,\"word\":\"well\"}],\"name\":\"data\"},\"marks\":[{\"type\":\"text\",\"from\":{\"data\":\"data\"},\"encode\":{\"enter\":{\"text\":{\"field\":\"word\",\"baseline\":{\"value\":\"alphabetic\"},\"align\":{\"value\":\"center\"}}}},\"transform\":[{\"type\":\"wordcloud\",\"size\":[800,400],\"text\":{\"field\":\"word\"},\"font\":\"Helvetica Neue, Arial\",\"fontSize\":{\"field\":\"datum.freq\"},\"fontSizeRange\":[10,120],\"padding\":2}]}]};\n",
       "    vegaEmbed('#uuid-937541d4-242b-40bb-b2bc-24adcbce330c', spec, {defaultStyle:true}).catch(console.warn);\n",
       "    }, function(err) {\n",
       "    console.log('Failed to load');\n",
       "  });\n",
       "  </script>\n",
       "</div>\n",
       "  "
      ]
     },
     "execution_count": 214,
     "metadata": {},
     "output_type": "execute_result"
    }
   ],
   "source": [
    "(oz/view! word-cloud)"
   ]
  },
  {
   "cell_type": "markdown",
   "metadata": {},
   "source": [
    "# a more interesting approach would be to look on the \"context\" of the words and not on their frequency (count),\n",
    "\n",
    "#### looking on the neighberhood of a word (the words [surrounding it](https://en.wikipedia.org/wiki/Distributional_semantics#Distributional_hypothesis)) can help us understand the word meaning,\n",
    "\n",
    "#### for example \n",
    "* <font color=\"green\">\"I ate sabich today\"\n",
    "* \"Sigal made a delicious sabich for us\"\n",
    "* \"Sabich should be served in pita\"</font>\n",
    "\n",
    "#### a window of size 3 (word's before/after) and word 'Sabich', we get (removing stopwords),  <font color=\"red\"> ['ate', 'made', 'delicious', 'served']</font>\n",
    "\n",
    "#### and can 'feel' it's in the context of food, ofcourse this needs to be 'learned' on loads of data (sentences...)"
   ]
  },
  {
   "cell_type": "markdown",
   "metadata": {},
   "source": [
    "# now we can build for each word a vector, which will contain it neighbours (it context), this is <font color=\"red\">word-embeddings</font>, and it's cool!"
   ]
  },
  {
   "cell_type": "code",
   "execution_count": 174,
   "metadata": {},
   "outputs": [
    {
     "name": "stdout",
     "output_type": "stream",
     "text": [
      "[[    0     1     2     3     4     5     6     7]\n",
      " [0.000 0.000 0.000 1.000 0.000 2.000 1.000 0.000]\n",
      " [0.000 0.000 0.000 0.000 0.000 1.000 0.000 1.000]\n",
      " [0.000 0.000 0.000 0.000 0.000 2.000 2.000 1.000]\n",
      " [1.000 0.000 0.000 0.000 0.000 1.000 1.000 0.000]\n",
      " [0.000 0.000 0.000 0.000 0.000 2.000 1.000 2.000]\n",
      " [2.000 1.000 2.000 1.000 2.000 0.000 3.000 3.000]\n",
      " [1.000 0.000 2.000 1.000 1.000 3.000 0.000 0.000]\n",
      " [0.000 1.000 1.000 0.000 2.000 3.000 0.000 0.000]]\n",
      "{banda 0, bebe 1, bote 2, di 3, solte 4, te 5, y 6, yo 7}\n"
     ]
    },
    {
     "data": {
      "text/plain": [
       ":ok"
      ]
     },
     "execution_count": 174,
     "metadata": {},
     "output_type": "execute_result"
    }
   ],
   "source": [
    "; =================================\n",
    "(helper/add-dependencies '[net.mikera/core.matrix \"0.62.0\"])\n",
    "(helper/add-dependencies '[net.mikera/vectorz-clj \"0.48.0\"])\n",
    "(require '[clojure.core.matrix :as m])\n",
    "(m/set-current-implementation :vectorz)\n",
    "; =================================\n",
    "\n",
    "(defn distinct-words [nested-v]\n",
    "  (->> nested-v (mapcat #(identity %)) set))\n",
    "\n",
    "(defn incr [M [x y]]\n",
    "    (m/mset M x y \n",
    "        (inc (m/mget M x y))))\n",
    "\n",
    "(defn occurrence-indices [corpus word->idx n]\n",
    "  (mapcat (fn [line]\n",
    "            (mapcat (fn [[w & words]]\n",
    "                      (map #(vector (word->idx w) (word->idx %)) words))\n",
    "                    (partition (inc n) 1 line))) corpus))\n",
    "\n",
    "(defn co-occurrence-matrix [corpus n]\n",
    "  (let [word->idx (zipmap (sort (distinct-words corpus)) (range))\n",
    "        shape (vec (repeat 2 (count word->idx)))\n",
    "        M (->> (occurrence-indices corpus word->idx n)\n",
    "               (reduce (fn [M' loc]\n",
    "                         (-> (incr M' loc)\n",
    "                             (incr (reverse loc))))\n",
    "                       (m/zero-array shape)))]\n",
    "    {:M         M\n",
    "     :word->idx word->idx}))\n",
    "\n",
    "; =================================\n",
    "\n",
    "(defn print' [M]\n",
    "    (m/pm M {:column-names? true}))\n",
    "\n",
    "(def te-bote [\"Bebe yo te bote y te bote\", \n",
    "              \"Te di banda y te solte, yo te solte\"])\n",
    "\n",
    "(def result \n",
    "    (as-> te-bote song\n",
    "        (mapv tokenize song)\n",
    "        (co-occurrence-matrix song 2)))\n",
    "    \n",
    "(print' (:M result))\n",
    "(println (:word->idx result))\n",
    ":ok"
   ]
  },
  {
   "cell_type": "markdown",
   "metadata": {},
   "source": [
    "## so we have built a big square nXn matrix, with N=numOfWordsInCorpus, where each row is a word-vector, which represents the count of it neighbours in a fixed window-size (let's say 3). so our Dimension is N, and it's big, \n",
    "\n",
    "### reducing the dim would let us plot/feel the vectors, in 2-3 dimension,\n",
    "\n",
    "### a cool feature of matrices is that any real nXm matrix can be decomposed into SVD (3x other matrices...), and doing some other manipulations on the SVD result we can get a reduced dimensions of our matrix. (also called PCA)\n",
    "\n",
    "### there are other options for performing dim-reduction (tSNE), but will stick to it, "
   ]
  },
  {
   "cell_type": "code",
   "execution_count": 216,
   "metadata": {},
   "outputs": [
    {
     "name": "stdout",
     "output_type": "stream",
     "text": [
      "==========================================================\n",
      "U:\n",
      "[[    0      1      2      3      4      5      6      7]\n",
      " [0.239  0.236  0.258  0.424  0.143 -0.647  0.448 -0.013]\n",
      " [0.132  0.064  0.192 -0.287 -0.378  0.084  0.322  0.779]\n",
      " [0.325  0.046  0.537  0.107  0.321  0.039 -0.646  0.267]\n",
      " [0.169  0.021  0.131  0.427  0.235  0.739  0.411 -0.041]\n",
      " [0.320  0.035  0.513 -0.375 -0.392  0.087  0.106 -0.565]\n",
      " [0.600 -0.745 -0.259 -0.007  0.040 -0.109  0.058  0.028]\n",
      " [0.424  0.413 -0.395  0.365 -0.521  0.075 -0.287 -0.016]\n",
      " [0.386  0.459 -0.323 -0.519  0.502  0.031  0.114 -0.022]]\n",
      "DIAG MATRIX S:\n",
      "[[    0     1     2     3     4     5     6     7]\n",
      " [7.496 0.000 0.000 0.000 0.000 0.000 0.000 0.000]\n",
      " [0.000 4.477 0.000 0.000 0.000 0.000 0.000 0.000]\n",
      " [0.000 0.000 3.035 0.000 0.000 0.000 0.000 0.000]\n",
      " [0.000 0.000 0.000 1.833 0.000 0.000 0.000 0.000]\n",
      " [0.000 0.000 0.000 0.000 1.436 0.000 0.000 0.000]\n",
      " [0.000 0.000 0.000 0.000 0.000 0.921 0.000 0.000]\n",
      " [0.000 0.000 0.000 0.000 0.000 0.000 0.534 0.000]\n",
      " [0.000 0.000 0.000 0.000 0.000 0.000 0.000 0.008]]\n",
      "==========================================================\n",
      "NOW we pick the *k* rows/columns we need and get 2dim\n",
      "[[    0      1]\n",
      " [1.793  1.055]\n",
      " [0.987  0.286]\n",
      " [2.435  0.204]\n",
      " [1.263  0.096]\n",
      " [2.397  0.159]\n",
      " [4.499 -3.336]\n",
      " [3.178  1.851]\n",
      " [2.897  2.055]]\n"
     ]
    },
    {
     "data": {
      "text/plain": [
       ":ok"
      ]
     },
     "execution_count": 216,
     "metadata": {},
     "output_type": "execute_result"
    }
   ],
   "source": [
    "(require '[clojure.core.matrix.linear :as lm])\n",
    "\n",
    "(defn reduce-to-dim [k M]\n",
    "  (let [{:keys [U S]} (lm/svd M)\n",
    "        U' (->> U \n",
    "                m/columns\n",
    "                (take k) \n",
    "                m/transpose)\n",
    "        S' (->> S \n",
    "                (take k) \n",
    "                m/diagonal-matrix)]\n",
    "    (m/mmul U' S')))\n",
    "\n",
    "; =================================\n",
    "(let [{:keys [U S V*]} (lm/svd (:M result))]\n",
    "    (println \"==========================================================\")\n",
    "    (println \"U:\")\n",
    "    (print' U)\n",
    "    (println \"DIAG MATRIX S:\")\n",
    "    (print' (m/diagonal-matrix S)))\n",
    "\n",
    "(println \"==========================================================\")\n",
    "(println \"NOW we pick the *k* rows/columns we need and get 2dim\")\n",
    "\n",
    "(def result-reduced\n",
    "    (reduce-to-dim 2 (:M result)))\n",
    "\n",
    "(print' result-reduced)\n",
    ":ok"
   ]
  },
  {
   "cell_type": "markdown",
   "metadata": {},
   "source": [
    "# now running this all together with omers matrix we get:"
   ]
  },
  {
   "cell_type": "code",
   "execution_count": 215,
   "metadata": {},
   "outputs": [
    {
     "data": {
      "text/plain": [
       "#'user/M-omers"
      ]
     },
     "execution_count": 215,
     "metadata": {},
     "output_type": "execute_result"
    }
   ],
   "source": [
    "(def window-size 4)\n",
    "\n",
    "(def M-omers (as-> songs corpus\n",
    "                 (map (comp tokenize :text) corpus)\n",
    "                 (co-occurrence-matrix corpus window-size)))"
   ]
  },
  {
   "cell_type": "code",
   "execution_count": 237,
   "metadata": {},
   "outputs": [
    {
     "data": {
      "text/plain": [
       "#'user/reduced"
      ]
     },
     "execution_count": 237,
     "metadata": {},
     "output_type": "execute_result"
    }
   ],
   "source": [
    "(def reduced (->> (:M omers-co-occur)\n",
    "                 (map #(m/normalise %))\n",
    "                 m/matrix\n",
    "                 (reduce-to-dim 2)))"
   ]
  },
  {
   "cell_type": "code",
   "execution_count": 2,
   "metadata": {},
   "outputs": [
    {
     "name": "stderr",
     "output_type": "stream",
     "text": [
      "Syntax error compiling at (REPL:3:16).\n",
      "No such namespace: m\n",
      "Syntax error compiling at (REPL:14:26).\n",
      "Unable to resolve symbol: omers-co-occur in this context\n"
     ]
    },
    {
     "ename": "class clojure.lang.Compiler$CompilerException",
     "evalue": "",
     "output_type": "error",
     "traceback": [
      "  Util.java:   221 clojure.lang.Util/runtimeException",
      "   core.clj:  3214 clojure.core$eval/invokeStatic",
      "   core.clj:  3210 clojure.core$eval/invoke",
      "   main.clj:   437 clojure.main$repl$read_eval_print__9086$fn__9089/invoke",
      "   main.clj:   458 clojure.main$repl$fn__9095/invoke",
      "   main.clj:   368 clojure.main$repl/doInvoke",
      "RestFn.java:  1523 clojure.lang.RestFn/invoke",
      "   AFn.java:    22 clojure.lang.AFn/run",
      "   AFn.java:    22 clojure.lang.AFn/run",
      "Thread.java:   745 java.lang.Thread/run"
     ]
    }
   ],
   "source": [
    "(defn plot-embeddings [M word->idx title words]\n",
    "  (let [indices (vals (select-keys word->idx words))\n",
    "        sliced (m/emap #(m/select M % :all) indices)\n",
    "        x-cors (m/get-column sliced 0)\n",
    "        y-cors (m/get-column sliced 1)\n",
    "        plot (scatter-plot x-cors y-cors\n",
    "                           :title title\n",
    "                           :x-label \"X\"\n",
    "                           :y-label \"Y\")]\n",
    "    (doseq [[x y w] (map list x-cors y-cors words)]\n",
    "      (add-text plot x (+ 0.015 y) w))                       \n",
    "    (.createBufferedImage plot 1400 900)))\n",
    "\n",
    "(plot-embeddings reduced (:word->idx omers-co-occur) (str \"co-occurrence with n=\" window-size)\n",
    "                      (keys (take 50 freq-dist)))"
   ]
  },
  {
   "cell_type": "code",
   "execution_count": 1,
   "metadata": {},
   "outputs": [
    {
     "name": "stderr",
     "output_type": "stream",
     "text": [
      "Syntax error compiling at (REPL:1:1).\n",
      "No such namespace: helper\n",
      "Execution error (FileNotFoundException) at user/eval4097 (REPL:2).\n",
      "Could not locate think/tsne/core__init.class, think/tsne/core.clj or think/tsne/core.cljc on classpath.\n",
      "Syntax error compiling at (REPL:4:9).\n",
      "No such namespace: tsne\n",
      "Syntax error compiling at (REPL:7:1).\n",
      "Unable to resolve symbol: plot-embeddings in this context\n"
     ]
    },
    {
     "ename": "class clojure.lang.Compiler$CompilerException",
     "evalue": "",
     "output_type": "error",
     "traceback": [
      "  Util.java:   221 clojure.lang.Util/runtimeException",
      "   core.clj:  3214 clojure.core$eval/invokeStatic",
      "   core.clj:  3210 clojure.core$eval/invoke",
      "   main.clj:   437 clojure.main$repl$read_eval_print__9086$fn__9089/invoke",
      "   main.clj:   458 clojure.main$repl$fn__9095/invoke",
      "   main.clj:   368 clojure.main$repl/doInvoke",
      "RestFn.java:  1523 clojure.lang.RestFn/invoke",
      "   AFn.java:    22 clojure.lang.AFn/run",
      "   AFn.java:    22 clojure.lang.AFn/run",
      "Thread.java:   745 java.lang.Thread/run"
     ]
    }
   ],
   "source": [
    "(helper/add-dependencies '[thinktopic/think.tsne \"0.1.1\"])\n",
    "(require '[think.tsne.core :as tsne])\n",
    "(def red \n",
    "        (tsne/tsne (m/matrix (map #(m/normalise %) (:M omers-co-occur)))\n",
    "                   2 :tsne-algorithm :bht))\n",
    "\n",
    "(plot-embeddings red (:word->idx omers-co-occur) (str \"co-occurrence with n=\" window-size)\n",
    "                      (keys (take 30 freq-dist)))"
   ]
  },
  {
   "cell_type": "code",
   "execution_count": 118,
   "metadata": {},
   "outputs": [
    {
     "data": {
      "text/plain": [
       "(\"dont\" \"love\" \"im\" \"come\" \"like\" \"day\" \"heart\" \"youre\" \"go\" \"say\" \"end\" \"one\" \"know\" \"night\" \"lets\" \"give\" \"get\" \"back\" \"always\" \"time\" \"tell\" \"eyes\" \"away\" \"want\" \"us\" \"cause\" \"life\" \"see\" \"forget\" \"every\")"
      ]
     },
     "execution_count": 118,
     "metadata": {},
     "output_type": "execute_result"
    }
   ],
   "source": [
    "(keys (take 30 freq-dist))"
   ]
  },
  {
   "cell_type": "markdown",
   "metadata": {},
   "source": [
    "# now using this co-occurrence matrix, we can get the most 'similar' words, which will have same 'context', using cosine-similarity as"
   ]
  },
  {
   "cell_type": "code",
   "execution_count": 169,
   "metadata": {},
   "outputs": [
    {
     "data": {
      "text/plain": [
       "#'user/similar-words"
      ]
     },
     "execution_count": 169,
     "metadata": {},
     "output_type": "execute_result"
    }
   ],
   "source": [
    "(defn cosine-sim [v1 v2]\n",
    "  (m/div\n",
    "    (m/dot v1 v2)\n",
    "    (m/dot (lm/norm v1) (lm/norm v2))))\n",
    "\n",
    "(defn similarity [M word->idx w1 w2]\n",
    "  (cosine-sim (m/get-row M (word->idx w1))\n",
    "              (m/get-row M (word->idx w2))))\n",
    "\n",
    "(defn similar-words [M word->idx w n]\n",
    "  (let [words (keys (dissoc word->idx w))\n",
    "        sim (map #(similarity M word->idx w %) words)]\n",
    "    (->> (zipmap words sim)\n",
    "         (sort-by val >)\n",
    "         (take n)\n",
    "         keys)))\n"
   ]
  },
  {
   "cell_type": "code",
   "execution_count": 254,
   "metadata": {},
   "outputs": [
    {
     "data": {
      "text/plain": [
       "(\"streets\" \"sun\" \"couch\" \"time\" \"obstacles\" \"truth\" \"ruckus\" \"end\" \"middle\" \"weekend\")"
      ]
     },
     "execution_count": 254,
     "metadata": {},
     "output_type": "execute_result"
    }
   ],
   "source": [
    "(similar-words (:M omers-co-occur) (:word->idx omers-co-occur) \"bucharest\" 10)"
   ]
  },
  {
   "cell_type": "code",
   "execution_count": 246,
   "metadata": {},
   "outputs": [
    {
     "data": {
      "text/plain": [
       "0.20066457058379603"
      ]
     },
     "execution_count": 246,
     "metadata": {},
     "output_type": "execute_result"
    }
   ],
   "source": [
    "(similarity (:M omers-co-occur) (:word->idx omers-co-occur) \"heart\" \"dancing\")"
   ]
  },
  {
   "cell_type": "code",
   "execution_count": null,
   "metadata": {},
   "outputs": [],
   "source": []
  },
  {
   "cell_type": "code",
   "execution_count": null,
   "metadata": {},
   "outputs": [],
   "source": []
  },
  {
   "cell_type": "code",
   "execution_count": null,
   "metadata": {},
   "outputs": [],
   "source": []
  },
  {
   "cell_type": "code",
   "execution_count": null,
   "metadata": {},
   "outputs": [],
   "source": []
  },
  {
   "cell_type": "code",
   "execution_count": null,
   "metadata": {},
   "outputs": [],
   "source": []
  },
  {
   "cell_type": "code",
   "execution_count": null,
   "metadata": {},
   "outputs": [],
   "source": []
  },
  {
   "cell_type": "code",
   "execution_count": null,
   "metadata": {},
   "outputs": [],
   "source": []
  },
  {
   "cell_type": "code",
   "execution_count": null,
   "metadata": {},
   "outputs": [],
   "source": []
  },
  {
   "cell_type": "code",
   "execution_count": null,
   "metadata": {},
   "outputs": [],
   "source": []
  },
  {
   "cell_type": "code",
   "execution_count": null,
   "metadata": {},
   "outputs": [],
   "source": []
  }
 ],
 "metadata": {
  "kernelspec": {
   "display_name": "Clojure (clojupyter=0.3.2=1)",
   "language": "clojure",
   "name": "conda-clojupyter"
  },
  "language_info": {
   "file_extension": ".clj",
   "mimetype": "text/x-clojure",
   "name": "clojure",
   "version": "1.10.1"
  }
 },
 "nbformat": 4,
 "nbformat_minor": 4
}
