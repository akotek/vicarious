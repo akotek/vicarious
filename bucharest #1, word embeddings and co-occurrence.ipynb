{
 "cells": [
  {
   "cell_type": "markdown",
   "metadata": {},
   "source": [
    "In **bucharest**, i'll explore omer's song-corpus (all it available english-translated songs) with simple text & NLP algorithms.\n",
    "\n",
    "i'll use [clojure](https://clojure.org/) and it libraries:\n",
    "1. array programming - \"clojure-numpy\" library ([core.matrix] (https://github.com/mikera/core.matrix))\n",
    "2. visualization library ([incanter] (https://github.com/incanter/incanter), [vega](https://vega.github.io/vega/) (vega is an awesome DSL, tool, concept)).\n",
    "3. test libraries for RDD,TDD and property based testing (clojure.test, clojure.test.check, clojure.spec)\n",
    "4. clojure-notebook-style: clojupyter (this!) a kernel for clojure & jupyter. (cooler alternative would be the [gorillaREPL](http://gorilla-repl.org/).\n",
    "\n",
    "unlike python and it numpy-scipy-nltk-tf awesome support stability, clojure tools are less common and not much in use, i'd try to show that there exist great (& fun) alternatives."
   ]
  },
  {
   "cell_type": "markdown",
   "metadata": {},
   "source": [
    "first let's get the data, will look on all omer-adam's english-translated songs, 55x of them on lyricstranslate.com (world's famous songs-translations website) and omer's being the most famous artist in Hebrew -> English translations.\n",
    "<img src=\"omer1.png\" width=\"200\">\n",
    "\n",
    "I'll have 2 basic assumptions:\n",
    "1. words that we'll find interest in (words like \"love\", \"night\", \"tel-aviv\", \"habibi\") will have no mistake in translation.\n",
    "2. translation wouldn't change the meaning of the words (and their intents), as this can happen when a none-professional-translator translates text,this will rely on the fact that omer's songs are not \"that deep\" :) and \"tonight\n"
   ]
  },
  {
   "cell_type": "markdown",
   "metadata": {},
   "source": [
    "simple scraping with Java interop & Java Jsoup library will get us all of the songs into memory, by looking on all \"a-href\" web-links will grab it specific-english translations easily, then save each title & text:\n",
    "<figure class=\"half\" style=\"display:flex\">\n",
    "    <img src=\"omer2.png\" width=400>\n",
    "    <img src=\"omer3.png\" width=400>\n",
    "</figure>"
   ]
  },
  {
   "cell_type": "code",
   "execution_count": 43,
   "metadata": {},
   "outputs": [
    {
     "data": {
      "text/plain": [
       "#'user/songs"
      ]
     },
     "execution_count": 43,
     "metadata": {},
     "output_type": "execute_result"
    }
   ],
   "source": [
    "; =================================\n",
    "(require '[clojupyter.misc.helper :as helper])\n",
    "(require '[clojupyter.misc.display :as display])\n",
    "(helper/add-dependencies '[org.jsoup/jsoup \"1.7.3\"])\n",
    "(import (org.jsoup Jsoup)\n",
    "        (org.jsoup.select Elements)\n",
    "        (org.jsoup.nodes Element))\n",
    "; =================================\n",
    "\n",
    "(def BASE-URL \"https://lyricstranslate.com\")\n",
    "\n",
    "(def OMERS-URL (str BASE-URL \"/en/omer-adam-lyrics.html\"))\n",
    "\n",
    "(defn get-page [url]\n",
    "  (.get (Jsoup/connect url)))\n",
    "\n",
    "(defn get-elems [page css]\n",
    "  (.select page css))\n",
    "\n",
    "(defn extract-links [url]\n",
    "  (for [e (get-elems (get-page url) \"a[href]\")\n",
    "        :when (and (= (.attr e \"class\") \"lang\")\n",
    "                   (= (.text e) \"English\"))]\n",
    "    (str BASE-URL (.attr e \"href\"))))\n",
    "\n",
    "(defn extract-song [url]\n",
    "  (let [elems (get-elems (get-page url) \"div#songtranslation > .translate-node-text\")\n",
    "        title (.text (get-elems elems \".title-h2\"))\n",
    "        text (.text (get-elems elems \".ltf > .par\"))]\n",
    "  {:title title\n",
    "   :text text}))\n",
    "\n",
    "(defn scrape-omer []\n",
    "  (for [song (extract-links OMERS-URL)]\n",
    "    (extract-song song)))\n",
    "\n",
    "; =================================\n",
    "(def songs (scrape-omer))\n",
    "; ================================="
   ]
  },
  {
   "cell_type": "code",
   "execution_count": 41,
   "metadata": {},
   "outputs": [
    {
     "name": "stdout",
     "output_type": "stream",
     "text": [
      "clojure.lang.LazySeq\n",
      "52\n"
     ]
    },
    {
     "data": {
      "text/plain": [
       "{:title \"I give thanks\", :text \"I offer thanks to you each morning For restoring my soul to me Thank you for the life that covers me Warms me like a flame That protects me from the cold You're there 1 and believe in me I offer thanks each morning For the present moment and for the light Thank you for the generous pale gold 2 You have placed on my table To feed my children You protect, you are great For my joys and my smiles I thank you For my gifts 3 and my passions And for my songs They are all for you Know that, know that I thank you my king I cry to you, my G-d, oh my G-d 4 To you I call To you, my life To you, my heart 5 I thank you To you I call 6 To you I call I offer thanks each morning For the love of my father, of my mother Thank you for the rain that waters the trees Of my fields, for being the gardian 7 Of our lives of our destinies For the day of rest 8 I thank you For the success, for being here For being happy sometimes Know that, know that I thank you, my G-d I cry to you, my G-d, oh my G-d To you I call To you, my life To you, my heart I thank you To you I call To you I call Come, let us sing joyously to the Lord Raise a shout for our Rock and deliverer Let us come into His presence with praise let us raise a shout for Him in song9 For all my defeats I thank you For all my sorrows The obstacles too It's all for my own good In my heart I know it I thank you I cry to you, my G-d, oh my G-d To you I call To you, my life To you, my heart I thank you To you I call To you I call\"}"
      ]
     },
     "execution_count": 41,
     "metadata": {},
     "output_type": "execute_result"
    }
   ],
   "source": [
    "(println (type songs))\n",
    "(println (count songs))\n",
    "(first songs)"
   ]
  },
  {
   "cell_type": "markdown",
   "metadata": {},
   "source": []
  },
  {
   "cell_type": "code",
   "execution_count": 44,
   "metadata": {},
   "outputs": [
    {
     "data": {
      "text/plain": [
       ":ok"
      ]
     },
     "execution_count": 44,
     "metadata": {},
     "output_type": "execute_result"
    }
   ],
   "source": [
    "(helper/add-dependencies '[net.mikera/core.matrix \"0.62.0\"])\n",
    "(helper/add-dependencies '[net.mikera/vectorz-clj \"0.48.0\"])\n",
    "(helper/add-dependencies '[incanter \"1.9.3\"])\n",
    "(require '[clojure.set :as set])\n",
    "(require '[clojure.core.matrix :as m])\n",
    "(use '(incanter core stats charts io))\n",
    "(m/set-current-implementation :vectorz)\n",
    ":ok"
   ]
  },
  {
   "cell_type": "code",
   "execution_count": 47,
   "metadata": {},
   "outputs": [
    {
     "data": {
      "text/plain": [
       "#'user/distinct-words"
      ]
     },
     "execution_count": 47,
     "metadata": {},
     "output_type": "execute_result"
    }
   ],
   "source": [
    "(defn distinct-words [nested-v]\n",
    "  (reduce (fn [s xs]\n",
    "                (set/union s (set xs)))\n",
    "          #{} nested-v))"
   ]
  },
  {
   "cell_type": "code",
   "execution_count": null,
   "metadata": {},
   "outputs": [],
   "source": [
    "(defn co-occurrence-matrix [corpus n]\n",
    "  (let [{:keys [words num-words]} (distinct-words corpus)\n",
    "        word->idx (zipmap words (range num-words))\n",
    "        shape (vec (repeat 2 num-words))\n",
    "        M (reduce (fn [M' coll]\n",
    "                    (co-occur M' coll word->idx n))\n",
    "                  (m/zero-array shape) corpus)]\n",
    "    {:M         M\n",
    "     :word->idx word->idx}))"
   ]
  },
  {
   "cell_type": "code",
   "execution_count": 32,
   "metadata": {},
   "outputs": [
    {
     "data": {
      "text/plain": [
       "#'user/plot-embeddings"
      ]
     },
     "execution_count": 32,
     "metadata": {},
     "output_type": "execute_result"
    }
   ],
   "source": [
    "(defn plot-embeddings [M word->idx title words]\n",
    "  (let [indices (vals (select-keys word->idx words))\n",
    "        sliced (m/emap #(m/select M % :all) indices)\n",
    "        x-cors (m/get-column sliced 0)\n",
    "        y-cors (m/get-column sliced 1)\n",
    "        plot (scatter-plot x-cors y-cors\n",
    "                           :title title\n",
    "                           :x-label \"X\"\n",
    "                           :y-label \"Y\")]\n",
    "    (doseq [[x y w] (map list x-cors y-cors words)]\n",
    "      (add-text plot x (+ 0.06 y) w))                       \n",
    "    (.createBufferedImage plot 600 400)))"
   ]
  },
  {
   "cell_type": "code",
   "execution_count": null,
   "metadata": {},
   "outputs": [],
   "source": []
  },
  {
   "cell_type": "code",
   "execution_count": null,
   "metadata": {},
   "outputs": [],
   "source": []
  },
  {
   "cell_type": "code",
   "execution_count": null,
   "metadata": {},
   "outputs": [],
   "source": []
  },
  {
   "cell_type": "code",
   "execution_count": null,
   "metadata": {},
   "outputs": [],
   "source": []
  },
  {
   "cell_type": "code",
   "execution_count": null,
   "metadata": {},
   "outputs": [],
   "source": []
  },
  {
   "cell_type": "code",
   "execution_count": null,
   "metadata": {},
   "outputs": [],
   "source": []
  },
  {
   "cell_type": "code",
   "execution_count": null,
   "metadata": {},
   "outputs": [],
   "source": []
  },
  {
   "cell_type": "code",
   "execution_count": null,
   "metadata": {},
   "outputs": [],
   "source": []
  },
  {
   "cell_type": "code",
   "execution_count": null,
   "metadata": {},
   "outputs": [],
   "source": []
  },
  {
   "cell_type": "code",
   "execution_count": null,
   "metadata": {},
   "outputs": [],
   "source": []
  },
  {
   "cell_type": "code",
   "execution_count": null,
   "metadata": {},
   "outputs": [],
   "source": []
  },
  {
   "cell_type": "code",
   "execution_count": null,
   "metadata": {},
   "outputs": [],
   "source": []
  },
  {
   "cell_type": "code",
   "execution_count": null,
   "metadata": {},
   "outputs": [],
   "source": []
  },
  {
   "cell_type": "code",
   "execution_count": null,
   "metadata": {},
   "outputs": [],
   "source": []
  }
 ],
 "metadata": {
  "kernelspec": {
   "display_name": "Clojure (clojupyter=0.3.2=1)",
   "language": "clojure",
   "name": "conda-clojupyter"
  },
  "language_info": {
   "file_extension": ".clj",
   "mimetype": "text/x-clojure",
   "name": "clojure",
   "version": "1.10.1"
  }
 },
 "nbformat": 4,
 "nbformat_minor": 4
}
